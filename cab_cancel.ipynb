{
  "nbformat": 4,
  "nbformat_minor": 0,
  "metadata": {
    "colab": {
      "provenance": []
    },
    "kernelspec": {
      "name": "python3",
      "display_name": "Python 3"
    },
    "language_info": {
      "name": "python"
    }
  },
  "cells": [
    {
      "cell_type": "code",
      "execution_count": 1,
      "metadata": {
        "id": "v2i5_RNbWfuR"
      },
      "outputs": [],
      "source": [
        "import pandas as pd\n",
        "import numpy as np\n",
        "import matplotlib.pyplot as plt\n",
        "import seaborn as sn"
      ]
    },
    {
      "cell_type": "code",
      "source": [
        "df=pd.read_csv('/content/YourCabs_training (1) (2) (1).csv')\n",
        "df.head(5)"
      ],
      "metadata": {
        "colab": {
          "base_uri": "https://localhost:8080/",
          "height": 313
        },
        "id": "wfeJCbEZXGLL",
        "outputId": "6e26fb13-4b7a-40a4-d27e-deb16584f11e"
      },
      "execution_count": 2,
      "outputs": [
        {
          "output_type": "execute_result",
          "data": {
            "text/plain": [
              "       id  user_id  vehicle_model_id  package_id  travel_type_id  \\\n",
              "0  132512    22177                28         NaN               2   \n",
              "1  132513    21413                12         NaN               2   \n",
              "2  132514    22178                12         NaN               2   \n",
              "3  132515    13034                12         NaN               2   \n",
              "4  132517    22180                12         NaN               2   \n",
              "\n",
              "   from_area_id  to_area_id  from_city_id  to_city_id      from_date  to_date  \\\n",
              "0          83.0       448.0           NaN         NaN  1/1/2013 2:00      NaN   \n",
              "1        1010.0       540.0           NaN         NaN  1/1/2013 9:00      NaN   \n",
              "2        1301.0      1034.0           NaN         NaN  1/1/2013 3:30      NaN   \n",
              "3         768.0       398.0           NaN         NaN  1/1/2013 5:45      NaN   \n",
              "4        1365.0       849.0           NaN         NaN  1/1/2013 9:00      NaN   \n",
              "\n",
              "   online_booking  mobile_site_booking booking_created   from_lat  from_long  \\\n",
              "0               0                    0   1/1/2013 1:39  12.924150  77.672290   \n",
              "1               0                    0   1/1/2013 2:25  12.966910  77.749350   \n",
              "2               0                    0   1/1/2013 3:08  12.937222  77.626915   \n",
              "3               0                    0   1/1/2013 4:39  12.989990  77.553320   \n",
              "4               0                    0   1/1/2013 7:53  12.845653  77.677925   \n",
              "\n",
              "      to_lat    to_long  Car_Cancellation  Cost_of_error  \n",
              "0  12.927320  77.635750                 0            1.0  \n",
              "1  12.927680  77.626640                 0            1.0  \n",
              "2  13.047926  77.597766                 0            1.0  \n",
              "3  12.971430  77.639140                 0            1.0  \n",
              "4  12.954340  77.600720                 0            1.0  "
            ],
            "text/html": [
              "\n",
              "  <div id=\"df-d0f717ae-95df-4e58-a0e9-d36d17431a22\" class=\"colab-df-container\">\n",
              "    <div>\n",
              "<style scoped>\n",
              "    .dataframe tbody tr th:only-of-type {\n",
              "        vertical-align: middle;\n",
              "    }\n",
              "\n",
              "    .dataframe tbody tr th {\n",
              "        vertical-align: top;\n",
              "    }\n",
              "\n",
              "    .dataframe thead th {\n",
              "        text-align: right;\n",
              "    }\n",
              "</style>\n",
              "<table border=\"1\" class=\"dataframe\">\n",
              "  <thead>\n",
              "    <tr style=\"text-align: right;\">\n",
              "      <th></th>\n",
              "      <th>id</th>\n",
              "      <th>user_id</th>\n",
              "      <th>vehicle_model_id</th>\n",
              "      <th>package_id</th>\n",
              "      <th>travel_type_id</th>\n",
              "      <th>from_area_id</th>\n",
              "      <th>to_area_id</th>\n",
              "      <th>from_city_id</th>\n",
              "      <th>to_city_id</th>\n",
              "      <th>from_date</th>\n",
              "      <th>to_date</th>\n",
              "      <th>online_booking</th>\n",
              "      <th>mobile_site_booking</th>\n",
              "      <th>booking_created</th>\n",
              "      <th>from_lat</th>\n",
              "      <th>from_long</th>\n",
              "      <th>to_lat</th>\n",
              "      <th>to_long</th>\n",
              "      <th>Car_Cancellation</th>\n",
              "      <th>Cost_of_error</th>\n",
              "    </tr>\n",
              "  </thead>\n",
              "  <tbody>\n",
              "    <tr>\n",
              "      <th>0</th>\n",
              "      <td>132512</td>\n",
              "      <td>22177</td>\n",
              "      <td>28</td>\n",
              "      <td>NaN</td>\n",
              "      <td>2</td>\n",
              "      <td>83.0</td>\n",
              "      <td>448.0</td>\n",
              "      <td>NaN</td>\n",
              "      <td>NaN</td>\n",
              "      <td>1/1/2013 2:00</td>\n",
              "      <td>NaN</td>\n",
              "      <td>0</td>\n",
              "      <td>0</td>\n",
              "      <td>1/1/2013 1:39</td>\n",
              "      <td>12.924150</td>\n",
              "      <td>77.672290</td>\n",
              "      <td>12.927320</td>\n",
              "      <td>77.635750</td>\n",
              "      <td>0</td>\n",
              "      <td>1.0</td>\n",
              "    </tr>\n",
              "    <tr>\n",
              "      <th>1</th>\n",
              "      <td>132513</td>\n",
              "      <td>21413</td>\n",
              "      <td>12</td>\n",
              "      <td>NaN</td>\n",
              "      <td>2</td>\n",
              "      <td>1010.0</td>\n",
              "      <td>540.0</td>\n",
              "      <td>NaN</td>\n",
              "      <td>NaN</td>\n",
              "      <td>1/1/2013 9:00</td>\n",
              "      <td>NaN</td>\n",
              "      <td>0</td>\n",
              "      <td>0</td>\n",
              "      <td>1/1/2013 2:25</td>\n",
              "      <td>12.966910</td>\n",
              "      <td>77.749350</td>\n",
              "      <td>12.927680</td>\n",
              "      <td>77.626640</td>\n",
              "      <td>0</td>\n",
              "      <td>1.0</td>\n",
              "    </tr>\n",
              "    <tr>\n",
              "      <th>2</th>\n",
              "      <td>132514</td>\n",
              "      <td>22178</td>\n",
              "      <td>12</td>\n",
              "      <td>NaN</td>\n",
              "      <td>2</td>\n",
              "      <td>1301.0</td>\n",
              "      <td>1034.0</td>\n",
              "      <td>NaN</td>\n",
              "      <td>NaN</td>\n",
              "      <td>1/1/2013 3:30</td>\n",
              "      <td>NaN</td>\n",
              "      <td>0</td>\n",
              "      <td>0</td>\n",
              "      <td>1/1/2013 3:08</td>\n",
              "      <td>12.937222</td>\n",
              "      <td>77.626915</td>\n",
              "      <td>13.047926</td>\n",
              "      <td>77.597766</td>\n",
              "      <td>0</td>\n",
              "      <td>1.0</td>\n",
              "    </tr>\n",
              "    <tr>\n",
              "      <th>3</th>\n",
              "      <td>132515</td>\n",
              "      <td>13034</td>\n",
              "      <td>12</td>\n",
              "      <td>NaN</td>\n",
              "      <td>2</td>\n",
              "      <td>768.0</td>\n",
              "      <td>398.0</td>\n",
              "      <td>NaN</td>\n",
              "      <td>NaN</td>\n",
              "      <td>1/1/2013 5:45</td>\n",
              "      <td>NaN</td>\n",
              "      <td>0</td>\n",
              "      <td>0</td>\n",
              "      <td>1/1/2013 4:39</td>\n",
              "      <td>12.989990</td>\n",
              "      <td>77.553320</td>\n",
              "      <td>12.971430</td>\n",
              "      <td>77.639140</td>\n",
              "      <td>0</td>\n",
              "      <td>1.0</td>\n",
              "    </tr>\n",
              "    <tr>\n",
              "      <th>4</th>\n",
              "      <td>132517</td>\n",
              "      <td>22180</td>\n",
              "      <td>12</td>\n",
              "      <td>NaN</td>\n",
              "      <td>2</td>\n",
              "      <td>1365.0</td>\n",
              "      <td>849.0</td>\n",
              "      <td>NaN</td>\n",
              "      <td>NaN</td>\n",
              "      <td>1/1/2013 9:00</td>\n",
              "      <td>NaN</td>\n",
              "      <td>0</td>\n",
              "      <td>0</td>\n",
              "      <td>1/1/2013 7:53</td>\n",
              "      <td>12.845653</td>\n",
              "      <td>77.677925</td>\n",
              "      <td>12.954340</td>\n",
              "      <td>77.600720</td>\n",
              "      <td>0</td>\n",
              "      <td>1.0</td>\n",
              "    </tr>\n",
              "  </tbody>\n",
              "</table>\n",
              "</div>\n",
              "    <div class=\"colab-df-buttons\">\n",
              "\n",
              "  <div class=\"colab-df-container\">\n",
              "    <button class=\"colab-df-convert\" onclick=\"convertToInteractive('df-d0f717ae-95df-4e58-a0e9-d36d17431a22')\"\n",
              "            title=\"Convert this dataframe to an interactive table.\"\n",
              "            style=\"display:none;\">\n",
              "\n",
              "  <svg xmlns=\"http://www.w3.org/2000/svg\" height=\"24px\" viewBox=\"0 -960 960 960\">\n",
              "    <path d=\"M120-120v-720h720v720H120Zm60-500h600v-160H180v160Zm220 220h160v-160H400v160Zm0 220h160v-160H400v160ZM180-400h160v-160H180v160Zm440 0h160v-160H620v160ZM180-180h160v-160H180v160Zm440 0h160v-160H620v160Z\"/>\n",
              "  </svg>\n",
              "    </button>\n",
              "\n",
              "  <style>\n",
              "    .colab-df-container {\n",
              "      display:flex;\n",
              "      gap: 12px;\n",
              "    }\n",
              "\n",
              "    .colab-df-convert {\n",
              "      background-color: #E8F0FE;\n",
              "      border: none;\n",
              "      border-radius: 50%;\n",
              "      cursor: pointer;\n",
              "      display: none;\n",
              "      fill: #1967D2;\n",
              "      height: 32px;\n",
              "      padding: 0 0 0 0;\n",
              "      width: 32px;\n",
              "    }\n",
              "\n",
              "    .colab-df-convert:hover {\n",
              "      background-color: #E2EBFA;\n",
              "      box-shadow: 0px 1px 2px rgba(60, 64, 67, 0.3), 0px 1px 3px 1px rgba(60, 64, 67, 0.15);\n",
              "      fill: #174EA6;\n",
              "    }\n",
              "\n",
              "    .colab-df-buttons div {\n",
              "      margin-bottom: 4px;\n",
              "    }\n",
              "\n",
              "    [theme=dark] .colab-df-convert {\n",
              "      background-color: #3B4455;\n",
              "      fill: #D2E3FC;\n",
              "    }\n",
              "\n",
              "    [theme=dark] .colab-df-convert:hover {\n",
              "      background-color: #434B5C;\n",
              "      box-shadow: 0px 1px 3px 1px rgba(0, 0, 0, 0.15);\n",
              "      filter: drop-shadow(0px 1px 2px rgba(0, 0, 0, 0.3));\n",
              "      fill: #FFFFFF;\n",
              "    }\n",
              "  </style>\n",
              "\n",
              "    <script>\n",
              "      const buttonEl =\n",
              "        document.querySelector('#df-d0f717ae-95df-4e58-a0e9-d36d17431a22 button.colab-df-convert');\n",
              "      buttonEl.style.display =\n",
              "        google.colab.kernel.accessAllowed ? 'block' : 'none';\n",
              "\n",
              "      async function convertToInteractive(key) {\n",
              "        const element = document.querySelector('#df-d0f717ae-95df-4e58-a0e9-d36d17431a22');\n",
              "        const dataTable =\n",
              "          await google.colab.kernel.invokeFunction('convertToInteractive',\n",
              "                                                    [key], {});\n",
              "        if (!dataTable) return;\n",
              "\n",
              "        const docLinkHtml = 'Like what you see? Visit the ' +\n",
              "          '<a target=\"_blank\" href=https://colab.research.google.com/notebooks/data_table.ipynb>data table notebook</a>'\n",
              "          + ' to learn more about interactive tables.';\n",
              "        element.innerHTML = '';\n",
              "        dataTable['output_type'] = 'display_data';\n",
              "        await google.colab.output.renderOutput(dataTable, element);\n",
              "        const docLink = document.createElement('div');\n",
              "        docLink.innerHTML = docLinkHtml;\n",
              "        element.appendChild(docLink);\n",
              "      }\n",
              "    </script>\n",
              "  </div>\n",
              "\n",
              "\n",
              "<div id=\"df-6c8c8492-8326-440f-8408-64d5f3262e27\">\n",
              "  <button class=\"colab-df-quickchart\" onclick=\"quickchart('df-6c8c8492-8326-440f-8408-64d5f3262e27')\"\n",
              "            title=\"Suggest charts\"\n",
              "            style=\"display:none;\">\n",
              "\n",
              "<svg xmlns=\"http://www.w3.org/2000/svg\" height=\"24px\"viewBox=\"0 0 24 24\"\n",
              "     width=\"24px\">\n",
              "    <g>\n",
              "        <path d=\"M19 3H5c-1.1 0-2 .9-2 2v14c0 1.1.9 2 2 2h14c1.1 0 2-.9 2-2V5c0-1.1-.9-2-2-2zM9 17H7v-7h2v7zm4 0h-2V7h2v10zm4 0h-2v-4h2v4z\"/>\n",
              "    </g>\n",
              "</svg>\n",
              "  </button>\n",
              "\n",
              "<style>\n",
              "  .colab-df-quickchart {\n",
              "      --bg-color: #E8F0FE;\n",
              "      --fill-color: #1967D2;\n",
              "      --hover-bg-color: #E2EBFA;\n",
              "      --hover-fill-color: #174EA6;\n",
              "      --disabled-fill-color: #AAA;\n",
              "      --disabled-bg-color: #DDD;\n",
              "  }\n",
              "\n",
              "  [theme=dark] .colab-df-quickchart {\n",
              "      --bg-color: #3B4455;\n",
              "      --fill-color: #D2E3FC;\n",
              "      --hover-bg-color: #434B5C;\n",
              "      --hover-fill-color: #FFFFFF;\n",
              "      --disabled-bg-color: #3B4455;\n",
              "      --disabled-fill-color: #666;\n",
              "  }\n",
              "\n",
              "  .colab-df-quickchart {\n",
              "    background-color: var(--bg-color);\n",
              "    border: none;\n",
              "    border-radius: 50%;\n",
              "    cursor: pointer;\n",
              "    display: none;\n",
              "    fill: var(--fill-color);\n",
              "    height: 32px;\n",
              "    padding: 0;\n",
              "    width: 32px;\n",
              "  }\n",
              "\n",
              "  .colab-df-quickchart:hover {\n",
              "    background-color: var(--hover-bg-color);\n",
              "    box-shadow: 0 1px 2px rgba(60, 64, 67, 0.3), 0 1px 3px 1px rgba(60, 64, 67, 0.15);\n",
              "    fill: var(--button-hover-fill-color);\n",
              "  }\n",
              "\n",
              "  .colab-df-quickchart-complete:disabled,\n",
              "  .colab-df-quickchart-complete:disabled:hover {\n",
              "    background-color: var(--disabled-bg-color);\n",
              "    fill: var(--disabled-fill-color);\n",
              "    box-shadow: none;\n",
              "  }\n",
              "\n",
              "  .colab-df-spinner {\n",
              "    border: 2px solid var(--fill-color);\n",
              "    border-color: transparent;\n",
              "    border-bottom-color: var(--fill-color);\n",
              "    animation:\n",
              "      spin 1s steps(1) infinite;\n",
              "  }\n",
              "\n",
              "  @keyframes spin {\n",
              "    0% {\n",
              "      border-color: transparent;\n",
              "      border-bottom-color: var(--fill-color);\n",
              "      border-left-color: var(--fill-color);\n",
              "    }\n",
              "    20% {\n",
              "      border-color: transparent;\n",
              "      border-left-color: var(--fill-color);\n",
              "      border-top-color: var(--fill-color);\n",
              "    }\n",
              "    30% {\n",
              "      border-color: transparent;\n",
              "      border-left-color: var(--fill-color);\n",
              "      border-top-color: var(--fill-color);\n",
              "      border-right-color: var(--fill-color);\n",
              "    }\n",
              "    40% {\n",
              "      border-color: transparent;\n",
              "      border-right-color: var(--fill-color);\n",
              "      border-top-color: var(--fill-color);\n",
              "    }\n",
              "    60% {\n",
              "      border-color: transparent;\n",
              "      border-right-color: var(--fill-color);\n",
              "    }\n",
              "    80% {\n",
              "      border-color: transparent;\n",
              "      border-right-color: var(--fill-color);\n",
              "      border-bottom-color: var(--fill-color);\n",
              "    }\n",
              "    90% {\n",
              "      border-color: transparent;\n",
              "      border-bottom-color: var(--fill-color);\n",
              "    }\n",
              "  }\n",
              "</style>\n",
              "\n",
              "  <script>\n",
              "    async function quickchart(key) {\n",
              "      const quickchartButtonEl =\n",
              "        document.querySelector('#' + key + ' button');\n",
              "      quickchartButtonEl.disabled = true;  // To prevent multiple clicks.\n",
              "      quickchartButtonEl.classList.add('colab-df-spinner');\n",
              "      try {\n",
              "        const charts = await google.colab.kernel.invokeFunction(\n",
              "            'suggestCharts', [key], {});\n",
              "      } catch (error) {\n",
              "        console.error('Error during call to suggestCharts:', error);\n",
              "      }\n",
              "      quickchartButtonEl.classList.remove('colab-df-spinner');\n",
              "      quickchartButtonEl.classList.add('colab-df-quickchart-complete');\n",
              "    }\n",
              "    (() => {\n",
              "      let quickchartButtonEl =\n",
              "        document.querySelector('#df-6c8c8492-8326-440f-8408-64d5f3262e27 button');\n",
              "      quickchartButtonEl.style.display =\n",
              "        google.colab.kernel.accessAllowed ? 'block' : 'none';\n",
              "    })();\n",
              "  </script>\n",
              "</div>\n",
              "    </div>\n",
              "  </div>\n"
            ]
          },
          "metadata": {},
          "execution_count": 2
        }
      ]
    },
    {
      "cell_type": "code",
      "source": [
        "df.shape"
      ],
      "metadata": {
        "colab": {
          "base_uri": "https://localhost:8080/"
        },
        "id": "35173lf5XXRl",
        "outputId": "cc738967-393c-4c78-8621-8dcb370124b5"
      },
      "execution_count": 3,
      "outputs": [
        {
          "output_type": "execute_result",
          "data": {
            "text/plain": [
              "(43431, 20)"
            ]
          },
          "metadata": {},
          "execution_count": 3
        }
      ]
    },
    {
      "cell_type": "code",
      "source": [
        "df.dtypes"
      ],
      "metadata": {
        "colab": {
          "base_uri": "https://localhost:8080/"
        },
        "id": "abi9RJypXXg6",
        "outputId": "eebefc8b-5818-437b-bcd9-5236d021b957"
      },
      "execution_count": 4,
      "outputs": [
        {
          "output_type": "execute_result",
          "data": {
            "text/plain": [
              "id                       int64\n",
              "user_id                  int64\n",
              "vehicle_model_id         int64\n",
              "package_id             float64\n",
              "travel_type_id           int64\n",
              "from_area_id           float64\n",
              "to_area_id             float64\n",
              "from_city_id           float64\n",
              "to_city_id             float64\n",
              "from_date               object\n",
              "to_date                float64\n",
              "online_booking           int64\n",
              "mobile_site_booking      int64\n",
              "booking_created         object\n",
              "from_lat               float64\n",
              "from_long              float64\n",
              "to_lat                 float64\n",
              "to_long                float64\n",
              "Car_Cancellation         int64\n",
              "Cost_of_error          float64\n",
              "dtype: object"
            ]
          },
          "metadata": {},
          "execution_count": 4
        }
      ]
    },
    {
      "cell_type": "code",
      "source": [
        "df.isnull().sum()"
      ],
      "metadata": {
        "colab": {
          "base_uri": "https://localhost:8080/"
        },
        "id": "FWwJ9fGUXe9h",
        "outputId": "37242458-fb84-4afb-d8e1-6e3273dad78e"
      },
      "execution_count": 5,
      "outputs": [
        {
          "output_type": "execute_result",
          "data": {
            "text/plain": [
              "id                         0\n",
              "user_id                    0\n",
              "vehicle_model_id           0\n",
              "package_id             35881\n",
              "travel_type_id             0\n",
              "from_area_id              88\n",
              "to_area_id              9138\n",
              "from_city_id           27086\n",
              "to_city_id             41843\n",
              "from_date                  0\n",
              "to_date                17890\n",
              "online_booking             0\n",
              "mobile_site_booking        0\n",
              "booking_created            0\n",
              "from_lat                  93\n",
              "from_long                 93\n",
              "to_lat                  9138\n",
              "to_long                 9138\n",
              "Car_Cancellation           0\n",
              "Cost_of_error              0\n",
              "dtype: int64"
            ]
          },
          "metadata": {},
          "execution_count": 5
        }
      ]
    },
    {
      "cell_type": "code",
      "source": [
        "mean1 = df[\"from_lat\"].mean()\n",
        "mean2 = df[\"from_long\"].mean()\n",
        "mean3 = df[\"to_lat\"].mean()\n",
        "mean4 = df[\"to_long\"].mean()"
      ],
      "metadata": {
        "id": "_MIVSTlqXkzM"
      },
      "execution_count": 6,
      "outputs": []
    },
    {
      "cell_type": "code",
      "source": [
        "# filling with there means in place of null\n",
        "df.from_lat.fillna(mean1,inplace=True)\n",
        "df.from_long.fillna(mean2,inplace=True)\n",
        "df.to_lat.fillna(mean3,inplace=True)\n",
        "df.to_long.fillna(mean4,inplace=True)"
      ],
      "metadata": {
        "id": "YYJL4_1KXq7w"
      },
      "execution_count": 7,
      "outputs": []
    },
    {
      "cell_type": "code",
      "source": [
        "# droping those features which are not required (columns with either null values or with all unique values)\n",
        "df.drop(['id','user_id','to_area_id','from_area_id','package_id','from_city_id', 'to_city_id','to_date'],inplace=True,axis=1)\n",
        "df.head()"
      ],
      "metadata": {
        "colab": {
          "base_uri": "https://localhost:8080/",
          "height": 313
        },
        "id": "_FqRkrVcXrG-",
        "outputId": "35f2cff1-9d23-4800-921b-17f830a74a2c"
      },
      "execution_count": 8,
      "outputs": [
        {
          "output_type": "execute_result",
          "data": {
            "text/plain": [
              "   vehicle_model_id  travel_type_id      from_date  online_booking  \\\n",
              "0                28               2  1/1/2013 2:00               0   \n",
              "1                12               2  1/1/2013 9:00               0   \n",
              "2                12               2  1/1/2013 3:30               0   \n",
              "3                12               2  1/1/2013 5:45               0   \n",
              "4                12               2  1/1/2013 9:00               0   \n",
              "\n",
              "   mobile_site_booking booking_created   from_lat  from_long     to_lat  \\\n",
              "0                    0   1/1/2013 1:39  12.924150  77.672290  12.927320   \n",
              "1                    0   1/1/2013 2:25  12.966910  77.749350  12.927680   \n",
              "2                    0   1/1/2013 3:08  12.937222  77.626915  13.047926   \n",
              "3                    0   1/1/2013 4:39  12.989990  77.553320  12.971430   \n",
              "4                    0   1/1/2013 7:53  12.845653  77.677925  12.954340   \n",
              "\n",
              "     to_long  Car_Cancellation  Cost_of_error  \n",
              "0  77.635750                 0            1.0  \n",
              "1  77.626640                 0            1.0  \n",
              "2  77.597766                 0            1.0  \n",
              "3  77.639140                 0            1.0  \n",
              "4  77.600720                 0            1.0  "
            ],
            "text/html": [
              "\n",
              "  <div id=\"df-abb62eaf-2227-4af8-8152-8b26890dbf18\" class=\"colab-df-container\">\n",
              "    <div>\n",
              "<style scoped>\n",
              "    .dataframe tbody tr th:only-of-type {\n",
              "        vertical-align: middle;\n",
              "    }\n",
              "\n",
              "    .dataframe tbody tr th {\n",
              "        vertical-align: top;\n",
              "    }\n",
              "\n",
              "    .dataframe thead th {\n",
              "        text-align: right;\n",
              "    }\n",
              "</style>\n",
              "<table border=\"1\" class=\"dataframe\">\n",
              "  <thead>\n",
              "    <tr style=\"text-align: right;\">\n",
              "      <th></th>\n",
              "      <th>vehicle_model_id</th>\n",
              "      <th>travel_type_id</th>\n",
              "      <th>from_date</th>\n",
              "      <th>online_booking</th>\n",
              "      <th>mobile_site_booking</th>\n",
              "      <th>booking_created</th>\n",
              "      <th>from_lat</th>\n",
              "      <th>from_long</th>\n",
              "      <th>to_lat</th>\n",
              "      <th>to_long</th>\n",
              "      <th>Car_Cancellation</th>\n",
              "      <th>Cost_of_error</th>\n",
              "    </tr>\n",
              "  </thead>\n",
              "  <tbody>\n",
              "    <tr>\n",
              "      <th>0</th>\n",
              "      <td>28</td>\n",
              "      <td>2</td>\n",
              "      <td>1/1/2013 2:00</td>\n",
              "      <td>0</td>\n",
              "      <td>0</td>\n",
              "      <td>1/1/2013 1:39</td>\n",
              "      <td>12.924150</td>\n",
              "      <td>77.672290</td>\n",
              "      <td>12.927320</td>\n",
              "      <td>77.635750</td>\n",
              "      <td>0</td>\n",
              "      <td>1.0</td>\n",
              "    </tr>\n",
              "    <tr>\n",
              "      <th>1</th>\n",
              "      <td>12</td>\n",
              "      <td>2</td>\n",
              "      <td>1/1/2013 9:00</td>\n",
              "      <td>0</td>\n",
              "      <td>0</td>\n",
              "      <td>1/1/2013 2:25</td>\n",
              "      <td>12.966910</td>\n",
              "      <td>77.749350</td>\n",
              "      <td>12.927680</td>\n",
              "      <td>77.626640</td>\n",
              "      <td>0</td>\n",
              "      <td>1.0</td>\n",
              "    </tr>\n",
              "    <tr>\n",
              "      <th>2</th>\n",
              "      <td>12</td>\n",
              "      <td>2</td>\n",
              "      <td>1/1/2013 3:30</td>\n",
              "      <td>0</td>\n",
              "      <td>0</td>\n",
              "      <td>1/1/2013 3:08</td>\n",
              "      <td>12.937222</td>\n",
              "      <td>77.626915</td>\n",
              "      <td>13.047926</td>\n",
              "      <td>77.597766</td>\n",
              "      <td>0</td>\n",
              "      <td>1.0</td>\n",
              "    </tr>\n",
              "    <tr>\n",
              "      <th>3</th>\n",
              "      <td>12</td>\n",
              "      <td>2</td>\n",
              "      <td>1/1/2013 5:45</td>\n",
              "      <td>0</td>\n",
              "      <td>0</td>\n",
              "      <td>1/1/2013 4:39</td>\n",
              "      <td>12.989990</td>\n",
              "      <td>77.553320</td>\n",
              "      <td>12.971430</td>\n",
              "      <td>77.639140</td>\n",
              "      <td>0</td>\n",
              "      <td>1.0</td>\n",
              "    </tr>\n",
              "    <tr>\n",
              "      <th>4</th>\n",
              "      <td>12</td>\n",
              "      <td>2</td>\n",
              "      <td>1/1/2013 9:00</td>\n",
              "      <td>0</td>\n",
              "      <td>0</td>\n",
              "      <td>1/1/2013 7:53</td>\n",
              "      <td>12.845653</td>\n",
              "      <td>77.677925</td>\n",
              "      <td>12.954340</td>\n",
              "      <td>77.600720</td>\n",
              "      <td>0</td>\n",
              "      <td>1.0</td>\n",
              "    </tr>\n",
              "  </tbody>\n",
              "</table>\n",
              "</div>\n",
              "    <div class=\"colab-df-buttons\">\n",
              "\n",
              "  <div class=\"colab-df-container\">\n",
              "    <button class=\"colab-df-convert\" onclick=\"convertToInteractive('df-abb62eaf-2227-4af8-8152-8b26890dbf18')\"\n",
              "            title=\"Convert this dataframe to an interactive table.\"\n",
              "            style=\"display:none;\">\n",
              "\n",
              "  <svg xmlns=\"http://www.w3.org/2000/svg\" height=\"24px\" viewBox=\"0 -960 960 960\">\n",
              "    <path d=\"M120-120v-720h720v720H120Zm60-500h600v-160H180v160Zm220 220h160v-160H400v160Zm0 220h160v-160H400v160ZM180-400h160v-160H180v160Zm440 0h160v-160H620v160ZM180-180h160v-160H180v160Zm440 0h160v-160H620v160Z\"/>\n",
              "  </svg>\n",
              "    </button>\n",
              "\n",
              "  <style>\n",
              "    .colab-df-container {\n",
              "      display:flex;\n",
              "      gap: 12px;\n",
              "    }\n",
              "\n",
              "    .colab-df-convert {\n",
              "      background-color: #E8F0FE;\n",
              "      border: none;\n",
              "      border-radius: 50%;\n",
              "      cursor: pointer;\n",
              "      display: none;\n",
              "      fill: #1967D2;\n",
              "      height: 32px;\n",
              "      padding: 0 0 0 0;\n",
              "      width: 32px;\n",
              "    }\n",
              "\n",
              "    .colab-df-convert:hover {\n",
              "      background-color: #E2EBFA;\n",
              "      box-shadow: 0px 1px 2px rgba(60, 64, 67, 0.3), 0px 1px 3px 1px rgba(60, 64, 67, 0.15);\n",
              "      fill: #174EA6;\n",
              "    }\n",
              "\n",
              "    .colab-df-buttons div {\n",
              "      margin-bottom: 4px;\n",
              "    }\n",
              "\n",
              "    [theme=dark] .colab-df-convert {\n",
              "      background-color: #3B4455;\n",
              "      fill: #D2E3FC;\n",
              "    }\n",
              "\n",
              "    [theme=dark] .colab-df-convert:hover {\n",
              "      background-color: #434B5C;\n",
              "      box-shadow: 0px 1px 3px 1px rgba(0, 0, 0, 0.15);\n",
              "      filter: drop-shadow(0px 1px 2px rgba(0, 0, 0, 0.3));\n",
              "      fill: #FFFFFF;\n",
              "    }\n",
              "  </style>\n",
              "\n",
              "    <script>\n",
              "      const buttonEl =\n",
              "        document.querySelector('#df-abb62eaf-2227-4af8-8152-8b26890dbf18 button.colab-df-convert');\n",
              "      buttonEl.style.display =\n",
              "        google.colab.kernel.accessAllowed ? 'block' : 'none';\n",
              "\n",
              "      async function convertToInteractive(key) {\n",
              "        const element = document.querySelector('#df-abb62eaf-2227-4af8-8152-8b26890dbf18');\n",
              "        const dataTable =\n",
              "          await google.colab.kernel.invokeFunction('convertToInteractive',\n",
              "                                                    [key], {});\n",
              "        if (!dataTable) return;\n",
              "\n",
              "        const docLinkHtml = 'Like what you see? Visit the ' +\n",
              "          '<a target=\"_blank\" href=https://colab.research.google.com/notebooks/data_table.ipynb>data table notebook</a>'\n",
              "          + ' to learn more about interactive tables.';\n",
              "        element.innerHTML = '';\n",
              "        dataTable['output_type'] = 'display_data';\n",
              "        await google.colab.output.renderOutput(dataTable, element);\n",
              "        const docLink = document.createElement('div');\n",
              "        docLink.innerHTML = docLinkHtml;\n",
              "        element.appendChild(docLink);\n",
              "      }\n",
              "    </script>\n",
              "  </div>\n",
              "\n",
              "\n",
              "<div id=\"df-a1c66173-5815-42dd-9456-ea00e1fa79ce\">\n",
              "  <button class=\"colab-df-quickchart\" onclick=\"quickchart('df-a1c66173-5815-42dd-9456-ea00e1fa79ce')\"\n",
              "            title=\"Suggest charts\"\n",
              "            style=\"display:none;\">\n",
              "\n",
              "<svg xmlns=\"http://www.w3.org/2000/svg\" height=\"24px\"viewBox=\"0 0 24 24\"\n",
              "     width=\"24px\">\n",
              "    <g>\n",
              "        <path d=\"M19 3H5c-1.1 0-2 .9-2 2v14c0 1.1.9 2 2 2h14c1.1 0 2-.9 2-2V5c0-1.1-.9-2-2-2zM9 17H7v-7h2v7zm4 0h-2V7h2v10zm4 0h-2v-4h2v4z\"/>\n",
              "    </g>\n",
              "</svg>\n",
              "  </button>\n",
              "\n",
              "<style>\n",
              "  .colab-df-quickchart {\n",
              "      --bg-color: #E8F0FE;\n",
              "      --fill-color: #1967D2;\n",
              "      --hover-bg-color: #E2EBFA;\n",
              "      --hover-fill-color: #174EA6;\n",
              "      --disabled-fill-color: #AAA;\n",
              "      --disabled-bg-color: #DDD;\n",
              "  }\n",
              "\n",
              "  [theme=dark] .colab-df-quickchart {\n",
              "      --bg-color: #3B4455;\n",
              "      --fill-color: #D2E3FC;\n",
              "      --hover-bg-color: #434B5C;\n",
              "      --hover-fill-color: #FFFFFF;\n",
              "      --disabled-bg-color: #3B4455;\n",
              "      --disabled-fill-color: #666;\n",
              "  }\n",
              "\n",
              "  .colab-df-quickchart {\n",
              "    background-color: var(--bg-color);\n",
              "    border: none;\n",
              "    border-radius: 50%;\n",
              "    cursor: pointer;\n",
              "    display: none;\n",
              "    fill: var(--fill-color);\n",
              "    height: 32px;\n",
              "    padding: 0;\n",
              "    width: 32px;\n",
              "  }\n",
              "\n",
              "  .colab-df-quickchart:hover {\n",
              "    background-color: var(--hover-bg-color);\n",
              "    box-shadow: 0 1px 2px rgba(60, 64, 67, 0.3), 0 1px 3px 1px rgba(60, 64, 67, 0.15);\n",
              "    fill: var(--button-hover-fill-color);\n",
              "  }\n",
              "\n",
              "  .colab-df-quickchart-complete:disabled,\n",
              "  .colab-df-quickchart-complete:disabled:hover {\n",
              "    background-color: var(--disabled-bg-color);\n",
              "    fill: var(--disabled-fill-color);\n",
              "    box-shadow: none;\n",
              "  }\n",
              "\n",
              "  .colab-df-spinner {\n",
              "    border: 2px solid var(--fill-color);\n",
              "    border-color: transparent;\n",
              "    border-bottom-color: var(--fill-color);\n",
              "    animation:\n",
              "      spin 1s steps(1) infinite;\n",
              "  }\n",
              "\n",
              "  @keyframes spin {\n",
              "    0% {\n",
              "      border-color: transparent;\n",
              "      border-bottom-color: var(--fill-color);\n",
              "      border-left-color: var(--fill-color);\n",
              "    }\n",
              "    20% {\n",
              "      border-color: transparent;\n",
              "      border-left-color: var(--fill-color);\n",
              "      border-top-color: var(--fill-color);\n",
              "    }\n",
              "    30% {\n",
              "      border-color: transparent;\n",
              "      border-left-color: var(--fill-color);\n",
              "      border-top-color: var(--fill-color);\n",
              "      border-right-color: var(--fill-color);\n",
              "    }\n",
              "    40% {\n",
              "      border-color: transparent;\n",
              "      border-right-color: var(--fill-color);\n",
              "      border-top-color: var(--fill-color);\n",
              "    }\n",
              "    60% {\n",
              "      border-color: transparent;\n",
              "      border-right-color: var(--fill-color);\n",
              "    }\n",
              "    80% {\n",
              "      border-color: transparent;\n",
              "      border-right-color: var(--fill-color);\n",
              "      border-bottom-color: var(--fill-color);\n",
              "    }\n",
              "    90% {\n",
              "      border-color: transparent;\n",
              "      border-bottom-color: var(--fill-color);\n",
              "    }\n",
              "  }\n",
              "</style>\n",
              "\n",
              "  <script>\n",
              "    async function quickchart(key) {\n",
              "      const quickchartButtonEl =\n",
              "        document.querySelector('#' + key + ' button');\n",
              "      quickchartButtonEl.disabled = true;  // To prevent multiple clicks.\n",
              "      quickchartButtonEl.classList.add('colab-df-spinner');\n",
              "      try {\n",
              "        const charts = await google.colab.kernel.invokeFunction(\n",
              "            'suggestCharts', [key], {});\n",
              "      } catch (error) {\n",
              "        console.error('Error during call to suggestCharts:', error);\n",
              "      }\n",
              "      quickchartButtonEl.classList.remove('colab-df-spinner');\n",
              "      quickchartButtonEl.classList.add('colab-df-quickchart-complete');\n",
              "    }\n",
              "    (() => {\n",
              "      let quickchartButtonEl =\n",
              "        document.querySelector('#df-a1c66173-5815-42dd-9456-ea00e1fa79ce button');\n",
              "      quickchartButtonEl.style.display =\n",
              "        google.colab.kernel.accessAllowed ? 'block' : 'none';\n",
              "    })();\n",
              "  </script>\n",
              "</div>\n",
              "    </div>\n",
              "  </div>\n"
            ]
          },
          "metadata": {},
          "execution_count": 8
        }
      ]
    },
    {
      "cell_type": "code",
      "source": [
        "# finding the time difference between booking created and requested trip start time."
      ],
      "metadata": {
        "id": "l6GvLLF0X4z2"
      },
      "execution_count": null,
      "outputs": []
    },
    {
      "cell_type": "code",
      "source": [
        "# for from_date feature\n",
        "trip_strt=np.array(df['from_date'])\n",
        "trip_strt=trip_strt.astype('str')"
      ],
      "metadata": {
        "id": "SjgtpbG8YBHs"
      },
      "execution_count": 9,
      "outputs": []
    },
    {
      "cell_type": "code",
      "source": [
        "# splitting into date and time\n",
        "date=[]\n",
        "for j in trip_strt:\n",
        "    date.append(j.split()[0])\n",
        "\n",
        "time=[]\n",
        "for i in trip_strt:\n",
        "    time.append(i.split()[1])"
      ],
      "metadata": {
        "id": "8rM1tLJ1YItZ"
      },
      "execution_count": 10,
      "outputs": []
    },
    {
      "cell_type": "code",
      "source": [
        "# splitting date into day, month and year\n",
        "day=[]\n",
        "month=[]\n",
        "year=[]\n",
        "for q in date:\n",
        "    day.append(q.split('/')[1])\n",
        "    month.append(q.split('/')[0])\n",
        "    year.append(q.split('/')[2])\n",
        "\n",
        "# splitting time into hours and minutes\n",
        "time_hours=[]\n",
        "time_minutes=[]\n",
        "for w in time:\n",
        "    time_hours.append(w.split(':')[0])\n",
        "    time_minutes.append(w.split(':')[1])"
      ],
      "metadata": {
        "id": "bY_o6GBhYLFF"
      },
      "execution_count": 11,
      "outputs": []
    },
    {
      "cell_type": "code",
      "source": [
        "# for booking_created feature\n",
        "booking=np.array(df['booking_created'])\n",
        "booking=booking.astype('str')"
      ],
      "metadata": {
        "id": "E9f91h2YYUTA"
      },
      "execution_count": 12,
      "outputs": []
    },
    {
      "cell_type": "code",
      "source": [
        "# splitting into date and time\n",
        "booking_date=[]\n",
        "for j in booking:\n",
        "    booking_date.append(j.split()[0])\n",
        "booking_time=[]\n",
        "for i in booking:\n",
        "    booking_time.append(i.split()[1])"
      ],
      "metadata": {
        "id": "eDz-xBcKYaFo"
      },
      "execution_count": 13,
      "outputs": []
    },
    {
      "cell_type": "code",
      "source": [
        "# splitting date into day, month and year\n",
        "booking_day=[]\n",
        "booking_month=[]\n",
        "booking_year=[]\n",
        "for q in booking_date:\n",
        "    booking_day.append(q.split('/')[1])\n",
        "    booking_month.append(q.split('/')[0])\n",
        "    booking_year.append(q.split('/')[2])\n",
        "\n",
        "# splitting time into hours and minutes\n",
        "bookingtime_hours=[]\n",
        "bookingtime_minutes=[]\n",
        "for w in booking_time:\n",
        "    bookingtime_hours.append(w.split(':')[0])\n",
        "    bookingtime_minutes.append(w.split(':')[1])"
      ],
      "metadata": {
        "id": "9bcXEm4xYaIZ"
      },
      "execution_count": 14,
      "outputs": []
    },
    {
      "cell_type": "code",
      "source": [
        "len(bookingtime_hours)"
      ],
      "metadata": {
        "colab": {
          "base_uri": "https://localhost:8080/"
        },
        "id": "XGno7OuHYaLJ",
        "outputId": "57485308-f533-43ec-b20e-a83ba892300c"
      },
      "execution_count": 15,
      "outputs": [
        {
          "output_type": "execute_result",
          "data": {
            "text/plain": [
              "43431"
            ]
          },
          "metadata": {},
          "execution_count": 15
        }
      ]
    },
    {
      "cell_type": "code",
      "source": [
        "# subtraction of date and time of booking created from requested trip start time\n",
        "from datetime import datetime\n",
        "diff_days=[]\n",
        "diff_time=[]\n",
        "bookingdate=[]\n",
        "tripdate=[]\n",
        "for i in range(43431):\n",
        "    bookingdate.append(datetime(int(booking_year[i]),int(booking_month[i]),int(booking_day[i]),int(bookingtime_hours[i]),int(bookingtime_minutes[i])))\n",
        "    tripdate.append(datetime(int(year[i]),int(month[i]),int(day[i]),int(time_hours[i]),int(time_minutes[i])))\n",
        "    diff  = tripdate[i] - bookingdate[i]\n",
        "    days, seconds = diff.days, diff.seconds\n",
        "    diff_days.append(days)\n",
        "    diff_time.append(float('%.2f'%(seconds/86400)))"
      ],
      "metadata": {
        "id": "hCIRMkxQYaOh"
      },
      "execution_count": 16,
      "outputs": []
    },
    {
      "cell_type": "code",
      "source": [
        "diff_days= np.array(diff_days)\n",
        "diff_time= np.array(diff_time)"
      ],
      "metadata": {
        "id": "W29_lv9cZKvI"
      },
      "execution_count": 17,
      "outputs": []
    },
    {
      "cell_type": "code",
      "source": [
        "# adding it (difference in days feature) to the dataset\n",
        "date_diff = diff_days + diff_time\n",
        "df['date_diff']=np.array(date_diff)"
      ],
      "metadata": {
        "id": "ym4KyKVxZK5V"
      },
      "execution_count": 18,
      "outputs": []
    },
    {
      "cell_type": "markdown",
      "source": [
        "#date_diff\n"
      ],
      "metadata": {
        "id": "18ScEqAMZW4k"
      }
    },
    {
      "cell_type": "code",
      "source": [
        "df.drop([\"from_date\",\"booking_created\"],inplace=True,axis=1)"
      ],
      "metadata": {
        "id": "XbpkAbueZZ2V"
      },
      "execution_count": 19,
      "outputs": []
    },
    {
      "cell_type": "code",
      "source": [
        "f_lat = np.array(df[\"from_lat\"])\n",
        "f_long = np.array(df[\"from_long\"])\n",
        "t_lat = np.array(df[\"to_lat\"])\n",
        "t_long = np.array(df[\"to_long\"])"
      ],
      "metadata": {
        "id": "iputmJK0Zeji"
      },
      "execution_count": 20,
      "outputs": []
    },
    {
      "cell_type": "code",
      "source": [
        "# calculating the distance between source and destination longitude and latitude\n",
        "lat= t_lat - f_lat\n",
        "long= t_long - f_long\n",
        "df['lat']=np.array(lat)\n",
        "df['long']=np.array(long)"
      ],
      "metadata": {
        "id": "VKDkQNytZe36"
      },
      "execution_count": 21,
      "outputs": []
    },
    {
      "cell_type": "code",
      "source": [
        "target=df['Car_Cancellation']\n",
        "df.drop(['Car_Cancellation','Cost_of_error'],inplace=True,axis=1)"
      ],
      "metadata": {
        "id": "1G6Gs1IKZmWX"
      },
      "execution_count": 22,
      "outputs": []
    },
    {
      "cell_type": "code",
      "source": [
        "df.head()"
      ],
      "metadata": {
        "colab": {
          "base_uri": "https://localhost:8080/",
          "height": 260
        },
        "id": "0Ddsu3hxZmm-",
        "outputId": "ed523836-6118-4732-ee4c-203e1d6a31b0"
      },
      "execution_count": 23,
      "outputs": [
        {
          "output_type": "execute_result",
          "data": {
            "text/plain": [
              "   vehicle_model_id  travel_type_id  online_booking  mobile_site_booking  \\\n",
              "0                28               2               0                    0   \n",
              "1                12               2               0                    0   \n",
              "2                12               2               0                    0   \n",
              "3                12               2               0                    0   \n",
              "4                12               2               0                    0   \n",
              "\n",
              "    from_lat  from_long     to_lat    to_long  date_diff       lat      long  \n",
              "0  12.924150  77.672290  12.927320  77.635750       0.01  0.003170 -0.036540  \n",
              "1  12.966910  77.749350  12.927680  77.626640       0.27 -0.039230 -0.122710  \n",
              "2  12.937222  77.626915  13.047926  77.597766       0.02  0.110704 -0.029149  \n",
              "3  12.989990  77.553320  12.971430  77.639140       0.05 -0.018560  0.085820  \n",
              "4  12.845653  77.677925  12.954340  77.600720       0.05  0.108687 -0.077205  "
            ],
            "text/html": [
              "\n",
              "  <div id=\"df-23f8e03e-2e46-402d-a388-b90acd767d54\" class=\"colab-df-container\">\n",
              "    <div>\n",
              "<style scoped>\n",
              "    .dataframe tbody tr th:only-of-type {\n",
              "        vertical-align: middle;\n",
              "    }\n",
              "\n",
              "    .dataframe tbody tr th {\n",
              "        vertical-align: top;\n",
              "    }\n",
              "\n",
              "    .dataframe thead th {\n",
              "        text-align: right;\n",
              "    }\n",
              "</style>\n",
              "<table border=\"1\" class=\"dataframe\">\n",
              "  <thead>\n",
              "    <tr style=\"text-align: right;\">\n",
              "      <th></th>\n",
              "      <th>vehicle_model_id</th>\n",
              "      <th>travel_type_id</th>\n",
              "      <th>online_booking</th>\n",
              "      <th>mobile_site_booking</th>\n",
              "      <th>from_lat</th>\n",
              "      <th>from_long</th>\n",
              "      <th>to_lat</th>\n",
              "      <th>to_long</th>\n",
              "      <th>date_diff</th>\n",
              "      <th>lat</th>\n",
              "      <th>long</th>\n",
              "    </tr>\n",
              "  </thead>\n",
              "  <tbody>\n",
              "    <tr>\n",
              "      <th>0</th>\n",
              "      <td>28</td>\n",
              "      <td>2</td>\n",
              "      <td>0</td>\n",
              "      <td>0</td>\n",
              "      <td>12.924150</td>\n",
              "      <td>77.672290</td>\n",
              "      <td>12.927320</td>\n",
              "      <td>77.635750</td>\n",
              "      <td>0.01</td>\n",
              "      <td>0.003170</td>\n",
              "      <td>-0.036540</td>\n",
              "    </tr>\n",
              "    <tr>\n",
              "      <th>1</th>\n",
              "      <td>12</td>\n",
              "      <td>2</td>\n",
              "      <td>0</td>\n",
              "      <td>0</td>\n",
              "      <td>12.966910</td>\n",
              "      <td>77.749350</td>\n",
              "      <td>12.927680</td>\n",
              "      <td>77.626640</td>\n",
              "      <td>0.27</td>\n",
              "      <td>-0.039230</td>\n",
              "      <td>-0.122710</td>\n",
              "    </tr>\n",
              "    <tr>\n",
              "      <th>2</th>\n",
              "      <td>12</td>\n",
              "      <td>2</td>\n",
              "      <td>0</td>\n",
              "      <td>0</td>\n",
              "      <td>12.937222</td>\n",
              "      <td>77.626915</td>\n",
              "      <td>13.047926</td>\n",
              "      <td>77.597766</td>\n",
              "      <td>0.02</td>\n",
              "      <td>0.110704</td>\n",
              "      <td>-0.029149</td>\n",
              "    </tr>\n",
              "    <tr>\n",
              "      <th>3</th>\n",
              "      <td>12</td>\n",
              "      <td>2</td>\n",
              "      <td>0</td>\n",
              "      <td>0</td>\n",
              "      <td>12.989990</td>\n",
              "      <td>77.553320</td>\n",
              "      <td>12.971430</td>\n",
              "      <td>77.639140</td>\n",
              "      <td>0.05</td>\n",
              "      <td>-0.018560</td>\n",
              "      <td>0.085820</td>\n",
              "    </tr>\n",
              "    <tr>\n",
              "      <th>4</th>\n",
              "      <td>12</td>\n",
              "      <td>2</td>\n",
              "      <td>0</td>\n",
              "      <td>0</td>\n",
              "      <td>12.845653</td>\n",
              "      <td>77.677925</td>\n",
              "      <td>12.954340</td>\n",
              "      <td>77.600720</td>\n",
              "      <td>0.05</td>\n",
              "      <td>0.108687</td>\n",
              "      <td>-0.077205</td>\n",
              "    </tr>\n",
              "  </tbody>\n",
              "</table>\n",
              "</div>\n",
              "    <div class=\"colab-df-buttons\">\n",
              "\n",
              "  <div class=\"colab-df-container\">\n",
              "    <button class=\"colab-df-convert\" onclick=\"convertToInteractive('df-23f8e03e-2e46-402d-a388-b90acd767d54')\"\n",
              "            title=\"Convert this dataframe to an interactive table.\"\n",
              "            style=\"display:none;\">\n",
              "\n",
              "  <svg xmlns=\"http://www.w3.org/2000/svg\" height=\"24px\" viewBox=\"0 -960 960 960\">\n",
              "    <path d=\"M120-120v-720h720v720H120Zm60-500h600v-160H180v160Zm220 220h160v-160H400v160Zm0 220h160v-160H400v160ZM180-400h160v-160H180v160Zm440 0h160v-160H620v160ZM180-180h160v-160H180v160Zm440 0h160v-160H620v160Z\"/>\n",
              "  </svg>\n",
              "    </button>\n",
              "\n",
              "  <style>\n",
              "    .colab-df-container {\n",
              "      display:flex;\n",
              "      gap: 12px;\n",
              "    }\n",
              "\n",
              "    .colab-df-convert {\n",
              "      background-color: #E8F0FE;\n",
              "      border: none;\n",
              "      border-radius: 50%;\n",
              "      cursor: pointer;\n",
              "      display: none;\n",
              "      fill: #1967D2;\n",
              "      height: 32px;\n",
              "      padding: 0 0 0 0;\n",
              "      width: 32px;\n",
              "    }\n",
              "\n",
              "    .colab-df-convert:hover {\n",
              "      background-color: #E2EBFA;\n",
              "      box-shadow: 0px 1px 2px rgba(60, 64, 67, 0.3), 0px 1px 3px 1px rgba(60, 64, 67, 0.15);\n",
              "      fill: #174EA6;\n",
              "    }\n",
              "\n",
              "    .colab-df-buttons div {\n",
              "      margin-bottom: 4px;\n",
              "    }\n",
              "\n",
              "    [theme=dark] .colab-df-convert {\n",
              "      background-color: #3B4455;\n",
              "      fill: #D2E3FC;\n",
              "    }\n",
              "\n",
              "    [theme=dark] .colab-df-convert:hover {\n",
              "      background-color: #434B5C;\n",
              "      box-shadow: 0px 1px 3px 1px rgba(0, 0, 0, 0.15);\n",
              "      filter: drop-shadow(0px 1px 2px rgba(0, 0, 0, 0.3));\n",
              "      fill: #FFFFFF;\n",
              "    }\n",
              "  </style>\n",
              "\n",
              "    <script>\n",
              "      const buttonEl =\n",
              "        document.querySelector('#df-23f8e03e-2e46-402d-a388-b90acd767d54 button.colab-df-convert');\n",
              "      buttonEl.style.display =\n",
              "        google.colab.kernel.accessAllowed ? 'block' : 'none';\n",
              "\n",
              "      async function convertToInteractive(key) {\n",
              "        const element = document.querySelector('#df-23f8e03e-2e46-402d-a388-b90acd767d54');\n",
              "        const dataTable =\n",
              "          await google.colab.kernel.invokeFunction('convertToInteractive',\n",
              "                                                    [key], {});\n",
              "        if (!dataTable) return;\n",
              "\n",
              "        const docLinkHtml = 'Like what you see? Visit the ' +\n",
              "          '<a target=\"_blank\" href=https://colab.research.google.com/notebooks/data_table.ipynb>data table notebook</a>'\n",
              "          + ' to learn more about interactive tables.';\n",
              "        element.innerHTML = '';\n",
              "        dataTable['output_type'] = 'display_data';\n",
              "        await google.colab.output.renderOutput(dataTable, element);\n",
              "        const docLink = document.createElement('div');\n",
              "        docLink.innerHTML = docLinkHtml;\n",
              "        element.appendChild(docLink);\n",
              "      }\n",
              "    </script>\n",
              "  </div>\n",
              "\n",
              "\n",
              "<div id=\"df-d74773be-22eb-48fb-be26-98ca8e44c7e1\">\n",
              "  <button class=\"colab-df-quickchart\" onclick=\"quickchart('df-d74773be-22eb-48fb-be26-98ca8e44c7e1')\"\n",
              "            title=\"Suggest charts\"\n",
              "            style=\"display:none;\">\n",
              "\n",
              "<svg xmlns=\"http://www.w3.org/2000/svg\" height=\"24px\"viewBox=\"0 0 24 24\"\n",
              "     width=\"24px\">\n",
              "    <g>\n",
              "        <path d=\"M19 3H5c-1.1 0-2 .9-2 2v14c0 1.1.9 2 2 2h14c1.1 0 2-.9 2-2V5c0-1.1-.9-2-2-2zM9 17H7v-7h2v7zm4 0h-2V7h2v10zm4 0h-2v-4h2v4z\"/>\n",
              "    </g>\n",
              "</svg>\n",
              "  </button>\n",
              "\n",
              "<style>\n",
              "  .colab-df-quickchart {\n",
              "      --bg-color: #E8F0FE;\n",
              "      --fill-color: #1967D2;\n",
              "      --hover-bg-color: #E2EBFA;\n",
              "      --hover-fill-color: #174EA6;\n",
              "      --disabled-fill-color: #AAA;\n",
              "      --disabled-bg-color: #DDD;\n",
              "  }\n",
              "\n",
              "  [theme=dark] .colab-df-quickchart {\n",
              "      --bg-color: #3B4455;\n",
              "      --fill-color: #D2E3FC;\n",
              "      --hover-bg-color: #434B5C;\n",
              "      --hover-fill-color: #FFFFFF;\n",
              "      --disabled-bg-color: #3B4455;\n",
              "      --disabled-fill-color: #666;\n",
              "  }\n",
              "\n",
              "  .colab-df-quickchart {\n",
              "    background-color: var(--bg-color);\n",
              "    border: none;\n",
              "    border-radius: 50%;\n",
              "    cursor: pointer;\n",
              "    display: none;\n",
              "    fill: var(--fill-color);\n",
              "    height: 32px;\n",
              "    padding: 0;\n",
              "    width: 32px;\n",
              "  }\n",
              "\n",
              "  .colab-df-quickchart:hover {\n",
              "    background-color: var(--hover-bg-color);\n",
              "    box-shadow: 0 1px 2px rgba(60, 64, 67, 0.3), 0 1px 3px 1px rgba(60, 64, 67, 0.15);\n",
              "    fill: var(--button-hover-fill-color);\n",
              "  }\n",
              "\n",
              "  .colab-df-quickchart-complete:disabled,\n",
              "  .colab-df-quickchart-complete:disabled:hover {\n",
              "    background-color: var(--disabled-bg-color);\n",
              "    fill: var(--disabled-fill-color);\n",
              "    box-shadow: none;\n",
              "  }\n",
              "\n",
              "  .colab-df-spinner {\n",
              "    border: 2px solid var(--fill-color);\n",
              "    border-color: transparent;\n",
              "    border-bottom-color: var(--fill-color);\n",
              "    animation:\n",
              "      spin 1s steps(1) infinite;\n",
              "  }\n",
              "\n",
              "  @keyframes spin {\n",
              "    0% {\n",
              "      border-color: transparent;\n",
              "      border-bottom-color: var(--fill-color);\n",
              "      border-left-color: var(--fill-color);\n",
              "    }\n",
              "    20% {\n",
              "      border-color: transparent;\n",
              "      border-left-color: var(--fill-color);\n",
              "      border-top-color: var(--fill-color);\n",
              "    }\n",
              "    30% {\n",
              "      border-color: transparent;\n",
              "      border-left-color: var(--fill-color);\n",
              "      border-top-color: var(--fill-color);\n",
              "      border-right-color: var(--fill-color);\n",
              "    }\n",
              "    40% {\n",
              "      border-color: transparent;\n",
              "      border-right-color: var(--fill-color);\n",
              "      border-top-color: var(--fill-color);\n",
              "    }\n",
              "    60% {\n",
              "      border-color: transparent;\n",
              "      border-right-color: var(--fill-color);\n",
              "    }\n",
              "    80% {\n",
              "      border-color: transparent;\n",
              "      border-right-color: var(--fill-color);\n",
              "      border-bottom-color: var(--fill-color);\n",
              "    }\n",
              "    90% {\n",
              "      border-color: transparent;\n",
              "      border-bottom-color: var(--fill-color);\n",
              "    }\n",
              "  }\n",
              "</style>\n",
              "\n",
              "  <script>\n",
              "    async function quickchart(key) {\n",
              "      const quickchartButtonEl =\n",
              "        document.querySelector('#' + key + ' button');\n",
              "      quickchartButtonEl.disabled = true;  // To prevent multiple clicks.\n",
              "      quickchartButtonEl.classList.add('colab-df-spinner');\n",
              "      try {\n",
              "        const charts = await google.colab.kernel.invokeFunction(\n",
              "            'suggestCharts', [key], {});\n",
              "      } catch (error) {\n",
              "        console.error('Error during call to suggestCharts:', error);\n",
              "      }\n",
              "      quickchartButtonEl.classList.remove('colab-df-spinner');\n",
              "      quickchartButtonEl.classList.add('colab-df-quickchart-complete');\n",
              "    }\n",
              "    (() => {\n",
              "      let quickchartButtonEl =\n",
              "        document.querySelector('#df-d74773be-22eb-48fb-be26-98ca8e44c7e1 button');\n",
              "      quickchartButtonEl.style.display =\n",
              "        google.colab.kernel.accessAllowed ? 'block' : 'none';\n",
              "    })();\n",
              "  </script>\n",
              "</div>\n",
              "    </div>\n",
              "  </div>\n"
            ]
          },
          "metadata": {},
          "execution_count": 23
        }
      ]
    },
    {
      "cell_type": "code",
      "source": [
        "df.info()"
      ],
      "metadata": {
        "colab": {
          "base_uri": "https://localhost:8080/"
        },
        "id": "lrSdNsJgZmxq",
        "outputId": "82493e51-89d6-48ef-fd8b-05b3929b1a2f"
      },
      "execution_count": 24,
      "outputs": [
        {
          "output_type": "stream",
          "name": "stdout",
          "text": [
            "<class 'pandas.core.frame.DataFrame'>\n",
            "RangeIndex: 43431 entries, 0 to 43430\n",
            "Data columns (total 11 columns):\n",
            " #   Column               Non-Null Count  Dtype  \n",
            "---  ------               --------------  -----  \n",
            " 0   vehicle_model_id     43431 non-null  int64  \n",
            " 1   travel_type_id       43431 non-null  int64  \n",
            " 2   online_booking       43431 non-null  int64  \n",
            " 3   mobile_site_booking  43431 non-null  int64  \n",
            " 4   from_lat             43431 non-null  float64\n",
            " 5   from_long            43431 non-null  float64\n",
            " 6   to_lat               43431 non-null  float64\n",
            " 7   to_long              43431 non-null  float64\n",
            " 8   date_diff            43431 non-null  float64\n",
            " 9   lat                  43431 non-null  float64\n",
            " 10  long                 43431 non-null  float64\n",
            "dtypes: float64(7), int64(4)\n",
            "memory usage: 3.6 MB\n"
          ]
        }
      ]
    },
    {
      "cell_type": "code",
      "source": [
        "#Analysing vehicle_model_id\n",
        "all_bookings= df['vehicle_model_id'].value_counts()\n",
        "cancelled= df[target==1]['vehicle_model_id'].value_counts()\n",
        "df1=pd.DataFrame([all_bookings,cancelled])\n",
        "df1.index=['Booked','Cancelled']\n",
        "df1.plot(kind='bar',stacked=True,figsize=(10,8))\n",
        "plt.xticks(rotation=30)\n",
        "plt.show()"
      ],
      "metadata": {
        "colab": {
          "base_uri": "https://localhost:8080/",
          "height": 709
        },
        "id": "Nn-UMMCzZm-Z",
        "outputId": "ace23d29-b9b1-49ca-f258-ac16d433f467"
      },
      "execution_count": 25,
      "outputs": [
        {
          "output_type": "display_data",
          "data": {
            "text/plain": [
              "<Figure size 1000x800 with 1 Axes>"
            ],
            "image/png": "[encoded data removed]"
          },
          "metadata": {}
        }
      ]
    },
    {
      "cell_type": "code",
      "source": [
        "#Analysing travel_type_id\n",
        "all_bookings= df['travel_type_id'].value_counts()\n",
        "cancelled= df[target==1]['travel_type_id'].value_counts()\n",
        "df1=pd.DataFrame([all_bookings,cancelled])\n",
        "df1.index=['Booked','Cancelled']\n",
        "df1.plot(kind='bar',stacked=True,figsize=(8,5))\n",
        "plt.xticks(rotation=30)\n",
        "plt.show()"
      ],
      "metadata": {
        "colab": {
          "base_uri": "https://localhost:8080/",
          "height": 478
        },
        "id": "M3c8dpUAZnL7",
        "outputId": "6c0642f3-18d5-481d-a55d-09c69016bd27"
      },
      "execution_count": 26,
      "outputs": [
        {
          "output_type": "display_data",
          "data": {
            "text/plain": [
              "<Figure size 800x500 with 1 Axes>"
            ],
            "image/png": "[encoded data removed]"
          },
          "metadata": {}
        }
      ]
    },
    {
      "cell_type": "code",
      "source": [
        "#Analysing online_booking\n",
        "all_bookings= df['online_booking'].value_counts()\n",
        "cancelled= df[target==1]['online_booking'].value_counts()\n",
        "df1=pd.DataFrame([all_bookings,cancelled])\n",
        "df1.index=['Booked','Cancelled']\n",
        "df1.plot(kind='bar',stacked=True,figsize=(8,5))\n",
        "plt.xticks(rotation=30)\n",
        "plt.show()"
      ],
      "metadata": {
        "colab": {
          "base_uri": "https://localhost:8080/",
          "height": 478
        },
        "id": "T0X8p_eDaAym",
        "outputId": "7e1eb831-787d-4a8c-8a37-0b5220f6e70a"
      },
      "execution_count": 27,
      "outputs": [
        {
          "output_type": "display_data",
          "data": {
            "text/plain": [
              "<Figure size 800x500 with 1 Axes>"
            ],
            "image/png": "[encoded data removed]"
          },
          "metadata": {}
        }
      ]
    },
    {
      "cell_type": "code",
      "source": [
        "#Analysing mobile_site_booking\n",
        "all_bookings= df['mobile_site_booking'].value_counts()\n",
        "cancelled= df[target==1]['mobile_site_booking'].value_counts()\n",
        "df1=pd.DataFrame([all_bookings,cancelled])\n",
        "df1.index=['Booked','Cancelled']\n",
        "df1.plot(kind='bar',stacked=True,figsize=(8,5))\n",
        "plt.xticks(rotation=30)\n",
        "plt.show()"
      ],
      "metadata": {
        "colab": {
          "base_uri": "https://localhost:8080/",
          "height": 478
        },
        "id": "rh8-A2lEaFLL",
        "outputId": "da46137f-28ec-489d-e514-9c140bfcef70"
      },
      "execution_count": 28,
      "outputs": [
        {
          "output_type": "display_data",
          "data": {
            "text/plain": [
              "<Figure size 800x500 with 1 Axes>"
            ],
            "image/png": "[encoded data removed]"
          },
          "metadata": {}
        }
      ]
    },
    {
      "cell_type": "code",
      "source": [
        "#splitting data into training and testing sets\n",
        "from sklearn.model_selection import train_test_split as tts\n",
        "X_train, X_test, Y_train, Y_test = tts(df, target, test_size=0.33, random_state=0)\n",
        "from sklearn.metrics import confusion_matrix as cm"
      ],
      "metadata": {
        "id": "zRzfDlBMaFY0"
      },
      "execution_count": 29,
      "outputs": []
    },
    {
      "cell_type": "code",
      "source": [
        "# NAIVE BAYES\n",
        "from sklearn.naive_bayes import GaussianNB\n",
        "clf = GaussianNB()\n",
        "clf.fit(X_train,Y_train)\n",
        "y_predict=clf.predict(X_test)"
      ],
      "metadata": {
        "id": "8ReCJOpJaNtv"
      },
      "execution_count": 30,
      "outputs": []
    },
    {
      "cell_type": "code",
      "source": [
        "cnf_matrix = cm(Y_test, y_predict)\n",
        "print(cnf_matrix)\n",
        "print(clf.score(X_test,Y_test))"
      ],
      "metadata": {
        "colab": {
          "base_uri": "https://localhost:8080/"
        },
        "id": "R5rfuIwzaRzz",
        "outputId": "ee8b3700-b3ba-47e2-be18-faa93c63bf6b"
      },
      "execution_count": 31,
      "outputs": [
        {
          "output_type": "stream",
          "name": "stdout",
          "text": [
            "[[12584   736]\n",
            " [  870   143]]\n",
            "0.8879508825786646\n"
          ]
        }
      ]
    },
    {
      "cell_type": "code",
      "source": [
        "df_cm = pd.DataFrame(cnf_matrix, range(2), range(2))\n",
        "sn.heatmap(df_cm, annot=True, annot_kws={\"size\": 17})\n",
        "plt.show()"
      ],
      "metadata": {
        "colab": {
          "base_uri": "https://localhost:8080/",
          "height": 430
        },
        "id": "95l1tq2yaZIs",
        "outputId": "0f814e44-c3c3-4d61-86f9-99338bda6214"
      },
      "execution_count": 32,
      "outputs": [
        {
          "output_type": "display_data",
          "data": {
            "text/plain": [
              "<Figure size 640x480 with 2 Axes>"
            ],
            "image/png": "[encoded data removed]"
          },
          "metadata": {}
        }
      ]
    },
    {
      "cell_type": "code",
      "source": [
        "# KNN\n",
        "from sklearn.neighbors import KNeighborsClassifier as knn\n",
        "neigh = knn(n_neighbors=50)\n",
        "neigh.fit(X_train,Y_train)\n",
        "y_predict=neigh.predict(X_test)"
      ],
      "metadata": {
        "id": "1P4eB36gaaLu"
      },
      "execution_count": 33,
      "outputs": []
    },
    {
      "cell_type": "code",
      "source": [
        "cnf_matrix1 = cm(Y_test, y_predict)\n",
        "print(cnf_matrix1)\n",
        "print(neigh.score(X_test,Y_test))"
      ],
      "metadata": {
        "colab": {
          "base_uri": "https://localhost:8080/"
        },
        "id": "Mzv_XsS5aaYK",
        "outputId": "b34c26d7-2306-43e6-c196-2876c55741e6"
      },
      "execution_count": 34,
      "outputs": [
        {
          "output_type": "stream",
          "name": "stdout",
          "text": [
            "[[13261    59]\n",
            " [  946    67]]\n",
            "0.9298820902811693\n"
          ]
        }
      ]
    },
    {
      "cell_type": "code",
      "source": [
        "df_cm = pd.DataFrame(cnf_matrix1, range(2), range(2))\n",
        "sn.heatmap(df_cm, annot=True, annot_kws={\"size\": 17})\n",
        "plt.show()"
      ],
      "metadata": {
        "colab": {
          "base_uri": "https://localhost:8080/",
          "height": 430
        },
        "id": "90resIkAahzs",
        "outputId": "36928d0c-4d39-4ceb-a1e3-97b499e06ce8"
      },
      "execution_count": 35,
      "outputs": [
        {
          "output_type": "display_data",
          "data": {
            "text/plain": [
              "<Figure size 640x480 with 2 Axes>"
            ],
            "image/png": "[encoded data removed]"
          },
          "metadata": {}
        }
      ]
    },
    {
      "cell_type": "code",
      "source": [
        "# DECISION TREE\n",
        "from sklearn.tree import DecisionTreeClassifier as dc\n",
        "dtc = dc(criterion = \"entropy\")\n",
        "dtc.fit(X_train,Y_train)\n",
        "y_predict=dtc.predict(X_test)"
      ],
      "metadata": {
        "id": "TJkhBCE2aiBZ"
      },
      "execution_count": 36,
      "outputs": []
    },
    {
      "cell_type": "code",
      "source": [
        "cnf_matrix2 = cm(Y_test, y_predict)\n",
        "print(cnf_matrix2)\n",
        "print(dtc.score(X_test,Y_test))"
      ],
      "metadata": {
        "colab": {
          "base_uri": "https://localhost:8080/"
        },
        "id": "zujOYEzSaqnl",
        "outputId": "201e7058-6528-4075-d12a-09ee4175111d"
      },
      "execution_count": 37,
      "outputs": [
        {
          "output_type": "stream",
          "name": "stdout",
          "text": [
            "[[12557   763]\n",
            " [  740   273]]\n",
            "0.8951370962115398\n"
          ]
        }
      ]
    },
    {
      "cell_type": "code",
      "source": [
        "df_cm = pd.DataFrame(cnf_matrix2, range(2), range(2))\n",
        "sn.heatmap(df_cm, annot=True, annot_kws={\"size\": 17})\n",
        "plt.show()"
      ],
      "metadata": {
        "colab": {
          "base_uri": "https://localhost:8080/",
          "height": 430
        },
        "id": "IVbyDsvpaq7I",
        "outputId": "4c91905a-c05c-4555-d52a-eac356fa4092"
      },
      "execution_count": 38,
      "outputs": [
        {
          "output_type": "display_data",
          "data": {
            "text/plain": [
              "<Figure size 640x480 with 2 Axes>"
            ],
            "image/png": "[encoded data removed]"
          },
          "metadata": {}
        }
      ]
    },
    {
      "cell_type": "code",
      "source": [
        "# LOGISTIC REGRESSION\n",
        "from sklearn.linear_model import LogisticRegression as LR\n",
        "l = LR()\n",
        "l.fit(X_train,Y_train)\n",
        "y_predict = l.predict(X_test)"
      ],
      "metadata": {
        "colab": {
          "base_uri": "https://localhost:8080/"
        },
        "id": "Jey0fV89a0Vt",
        "outputId": "332b6a18-ddf6-4bd8-b50b-742c584f6ca1"
      },
      "execution_count": 39,
      "outputs": [
        {
          "output_type": "stream",
          "name": "stderr",
          "text": [
            "/usr/local/lib/python3.10/dist-packages/sklearn/linear_model/_logistic.py:458: ConvergenceWarning: lbfgs failed to converge (status=1):\n",
            "STOP: TOTAL NO. of ITERATIONS REACHED LIMIT.\n",
            "\n",
            "Increase the number of iterations (max_iter) or scale the data as shown in:\n",
            "    https://scikit-learn.org/stable/modules/preprocessing.html\n",
            "Please also refer to the documentation for alternative solver options:\n",
            "    https://scikit-learn.org/stable/modules/linear_model.html#logistic-regression\n",
            "  n_iter_i = _check_optimize_result(\n"
          ]
        }
      ]
    },
    {
      "cell_type": "code",
      "source": [
        "cnf_matrix3 = cm(Y_test, y_predict)\n",
        "print(cnf_matrix3)\n",
        "print(l.score(X_test,Y_test))"
      ],
      "metadata": {
        "colab": {
          "base_uri": "https://localhost:8080/"
        },
        "id": "snE4NPJNa3hy",
        "outputId": "4a982a04-6a25-4029-a7e2-1872b4d911c5"
      },
      "execution_count": 40,
      "outputs": [
        {
          "output_type": "stream",
          "name": "stdout",
          "text": [
            "[[13315     5]\n",
            " [ 1010     3]]\n",
            "0.9291843996372009\n"
          ]
        }
      ]
    },
    {
      "cell_type": "code",
      "source": [
        "df_cm = pd.DataFrame(cnf_matrix3, range(2), range(2))\n",
        "sn.heatmap(df_cm, annot=True, annot_kws={\"size\": 17})\n",
        "plt.show()"
      ],
      "metadata": {
        "colab": {
          "base_uri": "https://localhost:8080/",
          "height": 430
        },
        "id": "99qLkUGra9Wd",
        "outputId": "115c6376-501b-4b85-f267-52a016d0fa05"
      },
      "execution_count": 41,
      "outputs": [
        {
          "output_type": "display_data",
          "data": {
            "text/plain": [
              "<Figure size 640x480 with 2 Axes>"
            ],
            "image/png": "[encoded data removed]"
          },
          "metadata": {}
        }
      ]
    },
    {
      "cell_type": "code",
      "source": [
        "# RANDOM FOREST\n",
        "from sklearn import ensemble\n",
        "rf= ensemble.RandomForestClassifier()\n",
        "rf.fit(X_train, Y_train)\n",
        "y_predict= rf.predict(X_test)"
      ],
      "metadata": {
        "id": "RTy9Y789bB5k"
      },
      "execution_count": 42,
      "outputs": []
    },
    {
      "cell_type": "code",
      "source": [
        "cnf_matrix4 = cm(Y_test, y_predict)\n",
        "print(cnf_matrix4)\n",
        "print(l.score(X_test,Y_test))"
      ],
      "metadata": {
        "colab": {
          "base_uri": "https://localhost:8080/"
        },
        "id": "wJzu_m73bLN5",
        "outputId": "a7cdd2d1-68c1-4410-e1b1-9e60d7cdd9a9"
      },
      "execution_count": 43,
      "outputs": [
        {
          "output_type": "stream",
          "name": "stdout",
          "text": [
            "[[13050   270]\n",
            " [  851   162]]\n",
            "0.9291843996372009\n"
          ]
        }
      ]
    },
    {
      "cell_type": "code",
      "source": [
        "df_cm = pd.DataFrame(cnf_matrix4, range(2), range(2))\n",
        "sn.heatmap(df_cm, annot=True, annot_kws={\"size\": 17})\n",
        "plt.show()"
      ],
      "metadata": {
        "colab": {
          "base_uri": "https://localhost:8080/",
          "height": 430
        },
        "id": "Rm5DqQCEbSUT",
        "outputId": "076aaf8c-83c4-43a5-d2a9-47a72b2f723c"
      },
      "execution_count": 44,
      "outputs": [
        {
          "output_type": "display_data",
          "data": {
            "text/plain": [
              "<Figure size 640x480 with 2 Axes>"
            ],
            "image/png": "[encoded data removed]"
          },
          "metadata": {}
        }
      ]
    }
  ]
}